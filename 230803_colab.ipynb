{
  "nbformat": 4,
  "nbformat_minor": 0,
  "metadata": {
    "colab": {
      "provenance": [],
      "authorship_tag": "ABX9TyMK3DKgJZXsY+CUOvszeIk9",
      "include_colab_link": true
    },
    "kernelspec": {
      "name": "python3",
      "display_name": "Python 3"
    },
    "language_info": {
      "name": "python"
    }
  },
  "cells": [
    {
      "cell_type": "markdown",
      "metadata": {
        "id": "view-in-github",
        "colab_type": "text"
      },
      "source": [
        "<a href=\"https://colab.research.google.com/github/haeun1star/Mobis_Python_2023/blob/main/230803_colab.ipynb\" target=\"_parent\"><img src=\"https://colab.research.google.com/assets/colab-badge.svg\" alt=\"Open In Colab\"/></a>"
      ]
    },
    {
      "cell_type": "markdown",
      "source": [
        "## 변수\n",
        "변수 : 나중에 참조할 수 있는 정보를 저장하는데 사용"
      ],
      "metadata": {
        "id": "qFFSvr5y9CFY"
      }
    },
    {
      "cell_type": "code",
      "source": [
        "result = 3 * 5\n",
        "result"
      ],
      "metadata": {
        "colab": {
          "base_uri": "https://localhost:8080/"
        },
        "id": "Vr4l6POaKVrU",
        "outputId": "635243d9-b490-4b29-df06-71cd257ffabc"
      },
      "execution_count": null,
      "outputs": [
        {
          "output_type": "execute_result",
          "data": {
            "text/plain": [
              "15"
            ]
          },
          "metadata": {},
          "execution_count": 1
        }
      ]
    },
    {
      "cell_type": "code",
      "source": [
        "4 * result"
      ],
      "metadata": {
        "colab": {
          "base_uri": "https://localhost:8080/"
        },
        "id": "l6QRqoHYKZX9",
        "outputId": "7c7b7acc-01c0-481b-b53e-32f8136d235b"
      },
      "execution_count": null,
      "outputs": [
        {
          "output_type": "execute_result",
          "data": {
            "text/plain": [
              "60"
            ]
          },
          "metadata": {},
          "execution_count": 2
        }
      ]
    },
    {
      "cell_type": "code",
      "source": [
        "result / 15"
      ],
      "metadata": {
        "colab": {
          "base_uri": "https://localhost:8080/"
        },
        "id": "F2OmpGsZKc3U",
        "outputId": "0e33b7eb-861f-4394-dfb6-3ab08bac8e24"
      },
      "execution_count": null,
      "outputs": [
        {
          "output_type": "execute_result",
          "data": {
            "text/plain": [
              "1.0"
            ]
          },
          "metadata": {},
          "execution_count": 3
        }
      ]
    },
    {
      "cell_type": "code",
      "execution_count": null,
      "metadata": {
        "colab": {
          "base_uri": "https://localhost:8080/"
        },
        "id": "NnaIcGjC8-9F",
        "outputId": "63cc8311-4e13-4112-fb8d-c5eb2ce912e1"
      },
      "outputs": [
        {
          "output_type": "execute_result",
          "data": {
            "text/plain": [
              "False"
            ]
          },
          "metadata": {},
          "execution_count": 4
        }
      ],
      "source": [
        "# 정수 (integer)\n",
        "a = 10\n",
        "\n",
        "# 실수 (float)\n",
        "b = 6.38174\n",
        "\n",
        "# 문자열 (string)\n",
        "c = 'python'\n",
        "d = \"code\"\n",
        "e = '20'\n",
        "f = \"It's a string\"\n",
        "g = 'He said \"It is a string!\"'\n",
        "h = \"\"\"He said: \"Hello, I've got a question\" from the audience\"\"\"\n",
        "i = '''He said: \"Hello, I've got a question\" from the audience'''\n",
        "\n",
        "# boolean > 조건문에서 자주 사용\n",
        "bool('A' == 'B')"
      ]
    },
    {
      "cell_type": "code",
      "source": [
        "print(a)\n",
        "print(b)\n",
        "print(c)\n",
        "print(d)\n",
        "print(e)\n",
        "print(f)\n",
        "print(g)\n",
        "print(h)\n",
        "print(i)"
      ],
      "metadata": {
        "id": "Wjam6NjqSANQ",
        "colab": {
          "base_uri": "https://localhost:8080/"
        },
        "outputId": "d7934d45-e946-4e0c-a4d0-43d3700daa54"
      },
      "execution_count": null,
      "outputs": [
        {
          "output_type": "stream",
          "name": "stdout",
          "text": [
            "10\n",
            "6.38174\n",
            "python\n",
            "code\n",
            "20\n",
            "It's a string\n",
            "He said \"It is a string!\"\n",
            "He said: \"Hello, I've got a question\" from the audience\n",
            "He said: \"Hello, I've got a question\" from the audience\n"
          ]
        }
      ]
    },
    {
      "cell_type": "markdown",
      "source": [
        "변수명 만들기\n",
        "- 가능한 문자들 : 알파벳 소문자 / 대문자, 숫자 0~9, _\n",
        "- _, 알파벳으로 시작해야 함\n",
        "- 대소문자 구분"
      ],
      "metadata": {
        "id": "a6Jfw52EMF6i"
      }
    },
    {
      "cell_type": "code",
      "source": [
        "# 가능한 변수 이름\n",
        "name_1 = 29\n",
        "name_2 = 'pen'\n",
        "_watch_type = 'apple'"
      ],
      "metadata": {
        "id": "-PN8FWoJMIIj"
      },
      "execution_count": null,
      "outputs": []
    },
    {
      "cell_type": "code",
      "source": [
        "# 불가능한 변수 이름\n",
        "1to2 = 2\n",
        "my-number = '010'\n",
        "my number = '8201'"
      ],
      "metadata": {
        "id": "2UejxjRSNKR6"
      },
      "execution_count": null,
      "outputs": []
    },
    {
      "cell_type": "code",
      "source": [
        "savemoney = 100\n",
        "saveMoney = 200"
      ],
      "metadata": {
        "id": "NdxHUvDoNUae"
      },
      "execution_count": null,
      "outputs": []
    },
    {
      "cell_type": "code",
      "source": [
        "# 예약어\n",
        "None, True, False, and, as, assert, break, class, continue, def, del, elif,\n",
        "else, except, finally, for, from, global, if, import, in, is, lambda, nonlocal,\n",
        "not, or, pass, raise, return, try, while, with, yield"
      ],
      "metadata": {
        "id": "6coLl92EReEx"
      },
      "execution_count": null,
      "outputs": []
    },
    {
      "cell_type": "markdown",
      "source": [
        "숫자의 경우 int, float, str 형태 자유롭게 변환 가능"
      ],
      "metadata": {
        "id": "-PxN2egnO1IW"
      }
    },
    {
      "cell_type": "code",
      "source": [
        "# int() : () 안의 데이터를 int 형으로 바꾼다.\n",
        "# float() : () 안의 데이터를 float형으로 바꾼다.\n",
        "# str() : () 안의 데이터를 string 형으로 바꾼다.\n",
        "int(b), float(b), str(b)"
      ],
      "metadata": {
        "colab": {
          "base_uri": "https://localhost:8080/"
        },
        "id": "FhYK2H0_Osrg",
        "outputId": "3cc4eb96-8676-4074-9fc9-9e3fc43062da"
      },
      "execution_count": null,
      "outputs": [
        {
          "output_type": "execute_result",
          "data": {
            "text/plain": [
              "(6, 6.38174, '6.38174')"
            ]
          },
          "metadata": {},
          "execution_count": 8
        }
      ]
    },
    {
      "cell_type": "markdown",
      "source": [
        "## 입력과 출력\n",
        "화면 출력"
      ],
      "metadata": {
        "id": "BP8ppj-kPgtk"
      }
    },
    {
      "cell_type": "code",
      "source": [
        "print(\"Hello World!\")\n",
        "print(\"Hyundai\", \"Mobis\") # \"\"로 구분된 문자열 사이 공백이 하나씩 들어감\n",
        "print(\"Hyundai\", \"Mobis\", sep=\"**\") # 공백 대신 sep인자가 들어감\n",
        "print(\"Hyundai\" + \"Mobis\") # 공백없이 문자열을 출력하고싶다면? 단, 문자열 + 숫자는 연결 안됨\n",
        "print(\"Hyundai\", \"Mobis\" + \":\", \"This Company\")"
      ],
      "metadata": {
        "colab": {
          "base_uri": "https://localhost:8080/"
        },
        "id": "VmkDx4LvT9_-",
        "outputId": "886c675a-2d6f-4855-b19f-c700766f521a"
      },
      "execution_count": null,
      "outputs": [
        {
          "output_type": "stream",
          "name": "stdout",
          "text": [
            "Hello World!\n",
            "Hyundai Mobis\n",
            "Hyundai**Mobis\n",
            "HyundaiMobis\n",
            "Hyundai Mobis: This Company\n"
          ]
        }
      ]
    },
    {
      "cell_type": "code",
      "source": [
        "print(3)\n",
        "print(a)"
      ],
      "metadata": {
        "id": "PNmfzafhUqyO",
        "colab": {
          "base_uri": "https://localhost:8080/"
        },
        "outputId": "4a02b849-414a-4595-c1b0-0354d3acc69e"
      },
      "execution_count": null,
      "outputs": [
        {
          "output_type": "stream",
          "name": "stdout",
          "text": [
            "3\n",
            "10\n"
          ]
        }
      ]
    },
    {
      "cell_type": "code",
      "source": [
        "print('its name', name_2)\n",
        "# new format string\n",
        "print(f'its name is {name_2} and i want to buy {_watch_type} watch')\n",
        "# format string\n",
        "print('its name is {} and i want to buy {} watch'.format(name_2, _watch_type))\n",
        "print('its name is {0} and i want to buy {1} watch'.format(name_2, _watch_type))\n",
        "\n",
        "print('A tab: \\t and some text')\n",
        "print('A,\\nB') # 개행문자\n",
        "\n",
        "print(\"Welcome to \", end=\"\") # 자동으로 들어가는 \\n 대신 아무것도 넣지 않아서\n",
        "print(\"python!!\") # 줄 바꿈 없이 연결됨"
      ],
      "metadata": {
        "colab": {
          "base_uri": "https://localhost:8080/"
        },
        "id": "8pfXbbQxPiEj",
        "outputId": "5af0e213-011e-447e-ec33-3b035b1ec96c"
      },
      "execution_count": null,
      "outputs": [
        {
          "output_type": "stream",
          "name": "stdout",
          "text": [
            "its name pen\n",
            "its name is pen and i want to buy apple watch\n",
            "its name is pen and i want to buy apple watch\n",
            "its name is pen and i want to buy apple watch\n",
            "A tab: \t and some text\n",
            "A,\n",
            "B\n",
            "Welcome to python!!\n"
          ]
        }
      ]
    },
    {
      "cell_type": "markdown",
      "source": [
        "키보드 입력"
      ],
      "metadata": {
        "id": "_JP5zizEPQ5u"
      }
    },
    {
      "cell_type": "code",
      "source": [
        "today_w = input(\"Today's weather : \")\n",
        "tomorrow_w = input(\"Tomorrow's weather : \")"
      ],
      "metadata": {
        "colab": {
          "base_uri": "https://localhost:8080/"
        },
        "id": "CU6K7Xh9OzTU",
        "outputId": "64c88d96-8fd6-46db-e72c-6518113e221a"
      },
      "execution_count": null,
      "outputs": [
        {
          "name": "stdout",
          "output_type": "stream",
          "text": [
            "Today's weather : Sunny\n",
            "Tomorrow's weather : Rainy\n"
          ]
        }
      ]
    },
    {
      "cell_type": "code",
      "source": [
        "print(today_w)\n",
        "print(tomorrow_w)"
      ],
      "metadata": {
        "colab": {
          "base_uri": "https://localhost:8080/"
        },
        "id": "FeUqWNWqxGkz",
        "outputId": "f30e3848-bfbb-406f-832d-07d42c202ec7"
      },
      "execution_count": null,
      "outputs": [
        {
          "output_type": "stream",
          "name": "stdout",
          "text": [
            "Sunny\n",
            "Rainy\n"
          ]
        }
      ]
    },
    {
      "cell_type": "code",
      "source": [
        "num_input = input(\"숫자를 입력하세요 : \")\n",
        "print(\"당신이 입력한 숫자는 {}입니다.\".format(num_input))"
      ],
      "metadata": {
        "id": "xoYIj7FAWSPa",
        "colab": {
          "base_uri": "https://localhost:8080/"
        },
        "outputId": "6ccb9b69-c820-4f11-ac19-eabd94b8698f"
      },
      "execution_count": null,
      "outputs": [
        {
          "output_type": "stream",
          "name": "stdout",
          "text": [
            "숫자를 입력하세요 : 5\n",
            "당신이 입력한 숫자는 5입니다.\n"
          ]
        }
      ]
    },
    {
      "cell_type": "code",
      "source": [
        "num_input2 = input(\"정사각형의 한 변의 길이는?: \")\n",
        "area = int(num_input2) ** 2\n",
        "print(\"정사각형의 넓이: {}\".format(area))\n",
        "\n",
        "area_2 = float(num_input2) ** 2\n",
        "print(\"정사각형의 넓이: {}\".format(area_2))"
      ],
      "metadata": {
        "id": "rjsCfJ08WdJb",
        "colab": {
          "base_uri": "https://localhost:8080/"
        },
        "outputId": "d6c61daa-ec36-4200-c46d-6118f966bcd0"
      },
      "execution_count": null,
      "outputs": [
        {
          "output_type": "stream",
          "name": "stdout",
          "text": [
            "정사각형의 한 변의 길이는?: 7\n",
            "정사각형의 넓이: 49\n",
            "정사각형의 넓이: 49.0\n"
          ]
        }
      ]
    },
    {
      "cell_type": "markdown",
      "source": [
        "## 연산자\n",
        "### *사칙연산*\n",
        "'+' : 더하기\n",
        "\n",
        "'-' : 빼기\n",
        "\n",
        "'*' : 곱하기\n",
        "\n",
        "'**' : 거듭제곱\n",
        "\n",
        "'/' : 나누기\n",
        "\n",
        "'//' : 몫 구하기\n",
        "\n",
        "'%' : 나머지 구하기"
      ],
      "metadata": {
        "id": "OOL-9N21UyhI"
      }
    },
    {
      "cell_type": "code",
      "source": [
        "2**4, 300/6, 100/9, 100//9, 100%9"
      ],
      "metadata": {
        "colab": {
          "base_uri": "https://localhost:8080/"
        },
        "id": "pXvzoB2DUgjF",
        "outputId": "179a442b-128a-497c-b27a-e98faa48731d"
      },
      "execution_count": null,
      "outputs": [
        {
          "output_type": "execute_result",
          "data": {
            "text/plain": [
              "(16, 50.0, 11.11111111111111, 11, 1)"
            ]
          },
          "metadata": {},
          "execution_count": 18
        }
      ]
    },
    {
      "cell_type": "code",
      "source": [
        "1.5**2, 2**(1/2)"
      ],
      "metadata": {
        "colab": {
          "base_uri": "https://localhost:8080/"
        },
        "id": "8Bc74dP-LfJy",
        "outputId": "97498684-a353-44f8-8918-7fdf1cc4f143"
      },
      "execution_count": null,
      "outputs": [
        {
          "output_type": "execute_result",
          "data": {
            "text/plain": [
              "(2.25, 1.4142135623730951)"
            ]
          },
          "metadata": {},
          "execution_count": 19
        }
      ]
    },
    {
      "cell_type": "markdown",
      "source": [
        "math 라이브러리를 이용하면 거듭제곱, 거듭제곱근 등 다양한 함수를 이용할 수 있다."
      ],
      "metadata": {
        "id": "wzqedjmVLsO-"
      }
    },
    {
      "cell_type": "code",
      "source": [
        "num1 = 3\n",
        "num2 = 5\n",
        "num3 = 10\n",
        "\n",
        "print(num1+num3) # 3+10\n",
        "print(num2-num3) # 5-10\n",
        "print(num1*num3) # 3*10\n",
        "print(num2/num3) # 5/10\n",
        "print(num2//num3) # 5/10 (몫)\n",
        "print(num3%num1) # 10/3 (나머지)"
      ],
      "metadata": {
        "colab": {
          "base_uri": "https://localhost:8080/"
        },
        "id": "ZadMowqkW5AD",
        "outputId": "bb02672c-a382-441b-9a9a-4e0b6d77a432"
      },
      "execution_count": null,
      "outputs": [
        {
          "output_type": "stream",
          "name": "stdout",
          "text": [
            "13\n",
            "-5\n",
            "30\n",
            "0.5\n",
            "0\n",
            "1\n"
          ]
        }
      ]
    },
    {
      "cell_type": "code",
      "source": [
        "3 * 10 ** 8"
      ],
      "metadata": {
        "colab": {
          "base_uri": "https://localhost:8080/"
        },
        "id": "DWyDAeOlyr6W",
        "outputId": "ae9d0758-3be2-4d83-827d-d98f99636b77"
      },
      "execution_count": null,
      "outputs": [
        {
          "output_type": "execute_result",
          "data": {
            "text/plain": [
              "300000000"
            ]
          },
          "metadata": {},
          "execution_count": 23
        }
      ]
    },
    {
      "cell_type": "code",
      "source": [
        "3e8"
      ],
      "metadata": {
        "colab": {
          "base_uri": "https://localhost:8080/"
        },
        "id": "aJuGACQryuT9",
        "outputId": "d73e84de-ccc6-4cdf-b9a3-b20197229550"
      },
      "execution_count": null,
      "outputs": [
        {
          "output_type": "execute_result",
          "data": {
            "text/plain": [
              "300000000.0"
            ]
          },
          "metadata": {},
          "execution_count": 24
        }
      ]
    },
    {
      "cell_type": "code",
      "source": [
        "1e3, 1e15, 1e16"
      ],
      "metadata": {
        "colab": {
          "base_uri": "https://localhost:8080/"
        },
        "id": "lqfftNzwMCOU",
        "outputId": "76b010e1-d750-4455-ffc5-7960cf1191fd"
      },
      "execution_count": null,
      "outputs": [
        {
          "output_type": "execute_result",
          "data": {
            "text/plain": [
              "(1000.0, 1000000000000000.0, 1e+16)"
            ]
          },
          "metadata": {},
          "execution_count": 25
        }
      ]
    },
    {
      "cell_type": "code",
      "source": [
        "1e-4, 1e-5"
      ],
      "metadata": {
        "colab": {
          "base_uri": "https://localhost:8080/"
        },
        "id": "ZkyXt8e0MWYh",
        "outputId": "b7ae57bc-d857-4bc7-c22c-ce9b42f11566"
      },
      "execution_count": null,
      "outputs": [
        {
          "output_type": "execute_result",
          "data": {
            "text/plain": [
              "(0.0001, 1e-05)"
            ]
          },
          "metadata": {},
          "execution_count": 26
        }
      ]
    },
    {
      "cell_type": "markdown",
      "source": [
        "문자열은 + 와 * 를 이용할 수 있다."
      ],
      "metadata": {
        "id": "S8jT9mCSSXhm"
      }
    },
    {
      "cell_type": "code",
      "source": [
        "lunch = '밥'\n",
        "dinner = '고기'\n",
        "print(lunch + dinner)\n",
        "\n",
        "print(dinner*10)"
      ],
      "metadata": {
        "colab": {
          "base_uri": "https://localhost:8080/"
        },
        "id": "rSNNi66OWs2l",
        "outputId": "ef435d7e-5b47-4b48-d66c-ea3b62f0a44e"
      },
      "execution_count": null,
      "outputs": [
        {
          "output_type": "stream",
          "name": "stdout",
          "text": [
            "밥고기\n",
            "고기고기고기고기고기고기고기고기고기고기\n"
          ]
        }
      ]
    },
    {
      "cell_type": "markdown",
      "source": [
        "### *논리연산*\n",
        "and, & : 동시 충족\n",
        "\n",
        "or, | : 조건 충족\n",
        "\n",
        "in : 보유 여부\n",
        "\n",
        "is : 같은가?\n",
        "\n",
        "not : 다른가?\n",
        "\n",
        "== : 같은 값인가?\n",
        "\n",
        "!= : 다른 값인가?\n",
        "\n",
        "'>, <, >=, <=' : 대소 비교"
      ],
      "metadata": {
        "id": "_a39XlWaZtWY"
      }
    },
    {
      "cell_type": "code",
      "source": [
        "print(10 > 5)\n",
        "print(10 < 5)\n",
        "print(10 == 5)\n",
        "print(10 == '10')\n",
        "print(10 != 5)"
      ],
      "metadata": {
        "colab": {
          "base_uri": "https://localhost:8080/"
        },
        "id": "2qDyfYz9XPSB",
        "outputId": "1c72ce48-9288-4fc0-c9d7-05cb0a3eb035"
      },
      "execution_count": null,
      "outputs": [
        {
          "output_type": "stream",
          "name": "stdout",
          "text": [
            "True\n",
            "False\n",
            "False\n",
            "False\n",
            "True\n"
          ]
        }
      ]
    },
    {
      "cell_type": "code",
      "source": [
        "width = 10\n",
        "length = 50\n",
        "\n",
        "print(width > length)\n",
        "print(length == 50)"
      ],
      "metadata": {
        "colab": {
          "base_uri": "https://localhost:8080/"
        },
        "id": "VXMyfP3taLzx",
        "outputId": "515b0e6d-59d5-4cc1-8faa-cd6f17055000"
      },
      "execution_count": null,
      "outputs": [
        {
          "output_type": "stream",
          "name": "stdout",
          "text": [
            "False\n",
            "True\n"
          ]
        }
      ]
    },
    {
      "cell_type": "code",
      "source": [
        "print(1 > 0 and -2 < 0)"
      ],
      "metadata": {
        "id": "5R5aClpZahwx",
        "colab": {
          "base_uri": "https://localhost:8080/"
        },
        "outputId": "3a73cb89-22ff-492d-c30a-7235e6b3b671"
      },
      "execution_count": null,
      "outputs": [
        {
          "output_type": "stream",
          "name": "stdout",
          "text": [
            "True\n"
          ]
        }
      ]
    },
    {
      "cell_type": "code",
      "source": [
        "print((3 < 0) and ((-5 > 0) and (1 > 5))) # F and (F and F) = F and F\n",
        "print((3 > 0) or ((-5 > 0) and (1 > 5))) # T or (F and F) = T or F\n",
        "print(((3 > 0) or (-5 > 0)) and ((4 > 8) or (3 < 0))) # (T or F) and (F or F) = T and F"
      ],
      "metadata": {
        "colab": {
          "base_uri": "https://localhost:8080/"
        },
        "id": "qKtrKSFsQI0d",
        "outputId": "842fdf75-afa8-405d-a62d-ef45f5e22bee"
      },
      "execution_count": null,
      "outputs": [
        {
          "output_type": "stream",
          "name": "stdout",
          "text": [
            "False\n",
            "True\n",
            "False\n"
          ]
        }
      ]
    },
    {
      "cell_type": "code",
      "source": [
        "print('He' in 'Hello')\n",
        "print('M' in 'Mobis', 'B' not in 'Mobis')"
      ],
      "metadata": {
        "colab": {
          "base_uri": "https://localhost:8080/"
        },
        "id": "UHO8OQlPaY4J",
        "outputId": "0d26d8ef-8ee7-433f-fc47-5596faf1c3ae"
      },
      "execution_count": null,
      "outputs": [
        {
          "output_type": "stream",
          "name": "stdout",
          "text": [
            "True\n",
            "True True\n"
          ]
        }
      ]
    },
    {
      "cell_type": "code",
      "source": [
        "ex_a = [1, 2, 3]\n",
        "ex_b = [1, 2, 3]\n",
        "ex_c = ex_a\n",
        "\n",
        "print(ex_a == ex_b)\n",
        "print(ex_a is ex_b)\n",
        "print(ex_a == ex_c)\n",
        "print(ex_a is ex_c)\n",
        "\n",
        "print(id(ex_a))\n",
        "print(id(ex_b))\n",
        "print(id(ex_c))"
      ],
      "metadata": {
        "colab": {
          "base_uri": "https://localhost:8080/"
        },
        "id": "BGWes_y54k51",
        "outputId": "76b25643-c6a0-4c3d-ae89-7d5d18520da8"
      },
      "execution_count": null,
      "outputs": [
        {
          "output_type": "stream",
          "name": "stdout",
          "text": [
            "True\n",
            "False\n",
            "True\n",
            "True\n",
            "140205753176640\n",
            "140204927379072\n",
            "140205753176640\n"
          ]
        }
      ]
    },
    {
      "cell_type": "code",
      "source": [
        "ex_a = 10\n",
        "ex_b = 10\n",
        "ex_c = ex_a\n",
        "\n",
        "print(ex_a == ex_b)\n",
        "print(ex_a is ex_b)\n",
        "print(ex_a == ex_c)\n",
        "print(ex_a is ex_c)"
      ],
      "metadata": {
        "colab": {
          "base_uri": "https://localhost:8080/"
        },
        "id": "KkCx8nra4BKV",
        "outputId": "a409378b-86eb-4927-8ac1-c7414f6947bf"
      },
      "execution_count": null,
      "outputs": [
        {
          "output_type": "stream",
          "name": "stdout",
          "text": [
            "True\n",
            "True\n",
            "True\n",
            "True\n"
          ]
        }
      ]
    },
    {
      "cell_type": "code",
      "source": [
        "ex_a = 300\n",
        "ex_b = 300\n",
        "ex_c = ex_a\n",
        "\n",
        "print(ex_a == ex_b)\n",
        "print(ex_a is ex_b)\n",
        "print(ex_a == ex_c)\n",
        "print(ex_a is ex_c)"
      ],
      "metadata": {
        "colab": {
          "base_uri": "https://localhost:8080/"
        },
        "id": "ylfde9Tg4RyT",
        "outputId": "309333e1-067f-41ee-dc56-675cb7dd6402"
      },
      "execution_count": null,
      "outputs": [
        {
          "output_type": "stream",
          "name": "stdout",
          "text": [
            "True\n",
            "False\n",
            "True\n",
            "True\n"
          ]
        }
      ]
    },
    {
      "cell_type": "markdown",
      "source": [
        "## 자료구조\n",
        "\n",
        "*리스트 (List)*"
      ],
      "metadata": {
        "id": "Iqc9GoDnXwn6"
      }
    },
    {
      "cell_type": "markdown",
      "source": [
        "리스트 만들기"
      ],
      "metadata": {
        "id": "gAZ4gQw0doub"
      }
    },
    {
      "cell_type": "code",
      "source": [
        "student1 = [90, 95, 85, 80]\n",
        "student1"
      ],
      "metadata": {
        "colab": {
          "base_uri": "https://localhost:8080/"
        },
        "id": "r4Buj8MkQs-l",
        "outputId": "73f85b9c-8937-40b1-ca3d-16e8374277f3"
      },
      "execution_count": null,
      "outputs": [
        {
          "output_type": "execute_result",
          "data": {
            "text/plain": [
              "[90, 95, 85, 80]"
            ]
          },
          "metadata": {},
          "execution_count": 42
        }
      ]
    },
    {
      "cell_type": "code",
      "source": [
        "type(student1)"
      ],
      "metadata": {
        "colab": {
          "base_uri": "https://localhost:8080/"
        },
        "id": "QYaYEeBaYO4_",
        "outputId": "9200d9a7-c637-4a83-9748-f26fdd784e03"
      },
      "execution_count": null,
      "outputs": [
        {
          "output_type": "execute_result",
          "data": {
            "text/plain": [
              "list"
            ]
          },
          "metadata": {},
          "execution_count": 43
        }
      ]
    },
    {
      "cell_type": "code",
      "source": [
        "# list에서 index값에 맞는 값 뽑아내기\n",
        "# 처음부터 0, 1, 2, 3, ...로 진행\n",
        "# 마지막 값은 보통 -1로 지칭\n",
        "student1[0], student1[1], student1[3], student1[-1]"
      ],
      "metadata": {
        "colab": {
          "base_uri": "https://localhost:8080/"
        },
        "id": "T6d4DYXPY-iP",
        "outputId": "4b8b00b5-1273-44d0-d74d-2883287466bb"
      },
      "execution_count": null,
      "outputs": [
        {
          "output_type": "execute_result",
          "data": {
            "text/plain": [
              "(90, 95, 80, 80)"
            ]
          },
          "metadata": {},
          "execution_count": 44
        }
      ]
    },
    {
      "cell_type": "code",
      "source": [
        "student1[1] = 100 # student1의 [1] 인덱스를 가진 값을 100으로 변경\n",
        "student1"
      ],
      "metadata": {
        "colab": {
          "base_uri": "https://localhost:8080/"
        },
        "id": "hQOQGrmmZKzt",
        "outputId": "604204be-846a-4c1f-cc2a-6e3ae0a8602c"
      },
      "execution_count": null,
      "outputs": [
        {
          "output_type": "execute_result",
          "data": {
            "text/plain": [
              "[90, 100, 85, 80]"
            ]
          },
          "metadata": {},
          "execution_count": 45
        }
      ]
    },
    {
      "cell_type": "code",
      "source": [
        "myFriends = ['Kim', 'Jung', 'Lee', 'Park'] # 리스트 선언\n",
        "myFriends"
      ],
      "metadata": {
        "colab": {
          "base_uri": "https://localhost:8080/"
        },
        "id": "EalWmMSKZPJY",
        "outputId": "01a8b986-6636-48cb-d6cc-a875e8fdf607"
      },
      "execution_count": null,
      "outputs": [
        {
          "output_type": "execute_result",
          "data": {
            "text/plain": [
              "['Kim', 'Jung', 'Lee', 'Park']"
            ]
          },
          "metadata": {},
          "execution_count": 46
        }
      ]
    },
    {
      "cell_type": "code",
      "source": [
        "myFriends[2]"
      ],
      "metadata": {
        "colab": {
          "base_uri": "https://localhost:8080/",
          "height": 35
        },
        "id": "zib5J2MlZVge",
        "outputId": "4d73ffe3-62c9-4cb5-a890-c2f9534710a9"
      },
      "execution_count": null,
      "outputs": [
        {
          "output_type": "execute_result",
          "data": {
            "text/plain": [
              "'Lee'"
            ],
            "application/vnd.google.colaboratory.intrinsic+json": {
              "type": "string"
            }
          },
          "metadata": {},
          "execution_count": 47
        }
      ]
    },
    {
      "cell_type": "code",
      "source": [
        "mixedList=[0, 2, 3.14, 'python', 'program', True, myFriends]\n",
        "mixedList"
      ],
      "metadata": {
        "colab": {
          "base_uri": "https://localhost:8080/"
        },
        "id": "UzsUN8FGZX4N",
        "outputId": "3f8bf2bb-9847-47cc-aa50-49ff5ba8f5b3"
      },
      "execution_count": null,
      "outputs": [
        {
          "output_type": "execute_result",
          "data": {
            "text/plain": [
              "[0, 2, 3.14, 'python', 'program', True, ['Kim', 'Jung', 'Lee', 'Park']]"
            ]
          },
          "metadata": {},
          "execution_count": 48
        }
      ]
    },
    {
      "cell_type": "markdown",
      "source": [
        "리스트 다루기"
      ],
      "metadata": {
        "id": "fgzLfW0MZj-x"
      }
    },
    {
      "cell_type": "code",
      "source": [
        "list_con1 = [0, 1, 2, 3, 4]\n",
        "list_con2 = [5, 6, 7, 8]\n",
        "\n",
        "# 리스트 합연산 (+)\n",
        "list_con = list_con1 + list_con2\n",
        "print(list_con)"
      ],
      "metadata": {
        "colab": {
          "base_uri": "https://localhost:8080/"
        },
        "id": "FgVcgVd8ZfeP",
        "outputId": "e3af0add-21d3-4906-ee73-1d9697a8dd33"
      },
      "execution_count": null,
      "outputs": [
        {
          "output_type": "stream",
          "name": "stdout",
          "text": [
            "[0, 1, 2, 3, 4, 5, 6, 7, 8]\n"
          ]
        }
      ]
    },
    {
      "cell_type": "code",
      "source": [
        "# 리스트 곱연산 (*)\n",
        "list_con = list_con1 * 3\n",
        "print(list_con)"
      ],
      "metadata": {
        "colab": {
          "base_uri": "https://localhost:8080/"
        },
        "id": "bFqWsVMHZ1Zt",
        "outputId": "1615eb5d-df7c-43a4-eeaf-413ce524b8ee"
      },
      "execution_count": null,
      "outputs": [
        {
          "output_type": "stream",
          "name": "stdout",
          "text": [
            "[0, 1, 2, 3, 4, 0, 1, 2, 3, 4, 0, 1, 2, 3, 4]\n"
          ]
        }
      ]
    },
    {
      "cell_type": "code",
      "source": [
        "# 리스트 분할 slicing\n",
        "list_data = [0, 1, 2, 3, 4, 5, 6, 7, 8, 9]\n",
        "print(list_data)\n",
        "print(list_data[0:3]) # index 0부터 (3-1)까지\n",
        "print(list_data[4:8]) # index 4부터 (8-1)까지\n",
        "print(list_data[:3]) # 처음부터 index (3-1)까지\n",
        "print(list_data[7:]) # index 7부터 끝까지\n",
        "print(list_data[::2]) # 처음부터 끝까지, 2 step 마다"
      ],
      "metadata": {
        "colab": {
          "base_uri": "https://localhost:8080/"
        },
        "id": "IiO2JBkaZ5HG",
        "outputId": "66810229-ad29-41fc-a40f-abdad6fcbfa2"
      },
      "execution_count": null,
      "outputs": [
        {
          "output_type": "stream",
          "name": "stdout",
          "text": [
            "[0, 1, 2, 3, 4, 5, 6, 7, 8, 9]\n",
            "[0, 1, 2]\n",
            "[4, 5, 6, 7]\n",
            "[0, 1, 2]\n",
            "[7, 8, 9]\n",
            "[0, 2, 4, 6, 8]\n"
          ]
        }
      ]
    },
    {
      "cell_type": "code",
      "source": [
        "print(list_data)\n",
        "del list_data[6]\n",
        "print(list_data)\n",
        "del list_data  # index 지정 안할 시 list 자체가 삭제됨\n",
        "# print(list_data) # 실행하면 error"
      ],
      "metadata": {
        "colab": {
          "base_uri": "https://localhost:8080/"
        },
        "id": "vIcMK0ykapki",
        "outputId": "7efca6bc-b922-4ade-8be3-68c6066c2a98"
      },
      "execution_count": null,
      "outputs": [
        {
          "output_type": "stream",
          "name": "stdout",
          "text": [
            "[0, 1, 2, 3, 4, 5, 6, 7, 8, 9]\n",
            "[0, 1, 2, 3, 4, 5, 7, 8, 9]\n"
          ]
        }
      ]
    },
    {
      "cell_type": "code",
      "source": [
        "list_data1 = [1, 2, 3, 4, 5]\n",
        "print(5 in list_data1)\n",
        "print(6 in list_data1)"
      ],
      "metadata": {
        "colab": {
          "base_uri": "https://localhost:8080/"
        },
        "id": "gtN-fLW3av4z",
        "outputId": "b1eec4f6-cdde-48bc-e6ae-51c9e50cb5f1"
      },
      "execution_count": null,
      "outputs": [
        {
          "output_type": "stream",
          "name": "stdout",
          "text": [
            "True\n",
            "False\n"
          ]
        }
      ]
    },
    {
      "cell_type": "code",
      "source": [
        "print(sum(list_data1))\n",
        "print(min(list_data1))\n",
        "print(max(list_data1))"
      ],
      "metadata": {
        "colab": {
          "base_uri": "https://localhost:8080/"
        },
        "id": "7mjUnMoMdOyO",
        "outputId": "7082bb97-9f4e-439f-d8fe-c91f39462c66"
      },
      "execution_count": null,
      "outputs": [
        {
          "output_type": "stream",
          "name": "stdout",
          "text": [
            "15\n",
            "1\n",
            "5\n"
          ]
        }
      ]
    },
    {
      "cell_type": "markdown",
      "source": [
        "리스트 메서드 이용하기 : 데이터 처리를 쉽게!"
      ],
      "metadata": {
        "id": "kaS2qFMOa5ZO"
      }
    },
    {
      "cell_type": "code",
      "source": [
        "print(myFriends)\n",
        "myFriends.append('Yeom')\n",
        "print(myFriends)"
      ],
      "metadata": {
        "colab": {
          "base_uri": "https://localhost:8080/"
        },
        "id": "1vwM8qw8a3x_",
        "outputId": "8352b40a-3492-4b81-d7af-746c11fa52a8"
      },
      "execution_count": null,
      "outputs": [
        {
          "output_type": "stream",
          "name": "stdout",
          "text": [
            "['Kim', 'Jung', 'Lee', 'Park']\n",
            "['Kim', 'Jung', 'Lee', 'Park', 'Yeom']\n"
          ]
        }
      ]
    },
    {
      "cell_type": "code",
      "source": [
        "myFriends.insert(1, 'Song')\n",
        "print(myFriends)"
      ],
      "metadata": {
        "colab": {
          "base_uri": "https://localhost:8080/"
        },
        "id": "Stdg4p1RbHLv",
        "outputId": "0226c207-44fd-4dd8-b1c0-0aeea909c884"
      },
      "execution_count": null,
      "outputs": [
        {
          "output_type": "stream",
          "name": "stdout",
          "text": [
            "['Kim', 'Song', 'Jung', 'Lee', 'Park', 'Yeom']\n"
          ]
        }
      ]
    },
    {
      "cell_type": "code",
      "source": [
        "myFriends.extend(['Choi', 'Kang'])\n",
        "print(myFriends)"
      ],
      "metadata": {
        "colab": {
          "base_uri": "https://localhost:8080/"
        },
        "id": "qRYgbIOFbQm9",
        "outputId": "da767621-1956-45d9-c5a6-1dc9a0d3bd7b"
      },
      "execution_count": null,
      "outputs": [
        {
          "output_type": "stream",
          "name": "stdout",
          "text": [
            "['Kim', 'Song', 'Jung', 'Lee', 'Park', 'Yeom', 'Choi', 'Kang']\n"
          ]
        }
      ]
    },
    {
      "cell_type": "code",
      "source": [
        "myFriends.remove('Park')\n",
        "print(myFriends)"
      ],
      "metadata": {
        "colab": {
          "base_uri": "https://localhost:8080/"
        },
        "id": "GhZtSmWobeh8",
        "outputId": "71457170-6928-49f8-a346-25511ab40c39"
      },
      "execution_count": null,
      "outputs": [
        {
          "output_type": "stream",
          "name": "stdout",
          "text": [
            "['Kim', 'Song', 'Jung', 'Lee', 'Yeom', 'Choi', 'Kang']\n"
          ]
        }
      ]
    },
    {
      "cell_type": "code",
      "source": [
        "popFriend = myFriends.pop()\n",
        "print(popFriend)\n",
        "print(myFriends)"
      ],
      "metadata": {
        "colab": {
          "base_uri": "https://localhost:8080/"
        },
        "id": "aCyZVj04bvYb",
        "outputId": "c59c5df7-08fa-4b66-c21f-cf896859bab2"
      },
      "execution_count": null,
      "outputs": [
        {
          "output_type": "stream",
          "name": "stdout",
          "text": [
            "Kang\n",
            "['Kim', 'Song', 'Jung', 'Lee', 'Yeom', 'Choi']\n"
          ]
        }
      ]
    },
    {
      "cell_type": "code",
      "source": [
        "indexFriend = myFriends.index('Lee')\n",
        "print(indexFriend)\n",
        "print(myFriends)"
      ],
      "metadata": {
        "colab": {
          "base_uri": "https://localhost:8080/"
        },
        "id": "_ZSjnERkb4gk",
        "outputId": "82f9d6fb-6795-4205-9dcb-574735b1d921"
      },
      "execution_count": null,
      "outputs": [
        {
          "output_type": "stream",
          "name": "stdout",
          "text": [
            "3\n",
            "['Kim', 'Song', 'Jung', 'Lee', 'Yeom', 'Choi']\n"
          ]
        }
      ]
    },
    {
      "cell_type": "code",
      "source": [
        "countFriend = myFriends.count('Jung')\n",
        "print(countFriend)\n",
        "print(myFriends)"
      ],
      "metadata": {
        "colab": {
          "base_uri": "https://localhost:8080/"
        },
        "id": "_gidIzoucNSg",
        "outputId": "f04e038f-7e79-4d3b-887d-4a4e509b76ec"
      },
      "execution_count": null,
      "outputs": [
        {
          "output_type": "stream",
          "name": "stdout",
          "text": [
            "1\n",
            "['Kim', 'Song', 'Jung', 'Lee', 'Yeom', 'Choi']\n"
          ]
        }
      ]
    },
    {
      "cell_type": "code",
      "source": [
        "myFriends.sort()\n",
        "print(myFriends)"
      ],
      "metadata": {
        "colab": {
          "base_uri": "https://localhost:8080/"
        },
        "id": "d6BOPE9YcT6F",
        "outputId": "c39985b7-2858-495f-838c-e15361a2b99b"
      },
      "execution_count": null,
      "outputs": [
        {
          "output_type": "stream",
          "name": "stdout",
          "text": [
            "['Choi', 'Jung', 'Kim', 'Lee', 'Song', 'Yeom']\n"
          ]
        }
      ]
    },
    {
      "cell_type": "code",
      "source": [
        "myFriends.reverse()\n",
        "print(myFriends)"
      ],
      "metadata": {
        "colab": {
          "base_uri": "https://localhost:8080/"
        },
        "id": "U2x80h00cWnC",
        "outputId": "0d9624d4-7e06-4479-ad2d-2688bac4ade4"
      },
      "execution_count": null,
      "outputs": [
        {
          "output_type": "stream",
          "name": "stdout",
          "text": [
            "['Yeom', 'Song', 'Lee', 'Kim', 'Jung', 'Choi']\n"
          ]
        }
      ]
    },
    {
      "cell_type": "code",
      "source": [
        "myFriends.clear()\n",
        "print(myFriends)"
      ],
      "metadata": {
        "colab": {
          "base_uri": "https://localhost:8080/"
        },
        "id": "iWUY8c_xcbx2",
        "outputId": "6e9d0f2f-386b-4496-f07b-81a59fe07ed0"
      },
      "execution_count": null,
      "outputs": [
        {
          "output_type": "stream",
          "name": "stdout",
          "text": [
            "[]\n"
          ]
        }
      ]
    },
    {
      "cell_type": "markdown",
      "source": [
        "*튜플 (Tuple)*\n",
        "\n",
        "튜플 만들기"
      ],
      "metadata": {
        "id": "_rAgggj-diGM"
      }
    },
    {
      "cell_type": "code",
      "source": [
        "tuple1 = (1, 2, 3, 4)\n",
        "print(tuple1)\n",
        "print(type(tuple1))\n",
        "print(tuple1[1])"
      ],
      "metadata": {
        "colab": {
          "base_uri": "https://localhost:8080/"
        },
        "id": "eeeN0dxpc6iI",
        "outputId": "dde15964-cd57-405b-c55b-2b336be46614"
      },
      "execution_count": null,
      "outputs": [
        {
          "output_type": "stream",
          "name": "stdout",
          "text": [
            "(1, 2, 3, 4)\n",
            "<class 'tuple'>\n",
            "2\n"
          ]
        }
      ]
    },
    {
      "cell_type": "code",
      "source": [
        "tuple2 = 5, 6, 7, 8\n",
        "print(tuple2)\n",
        "print(type(tuple2))"
      ],
      "metadata": {
        "colab": {
          "base_uri": "https://localhost:8080/"
        },
        "id": "cW4yLryzeR-A",
        "outputId": "6eaef8df-93c0-4d39-a4fb-1970c9dcb827"
      },
      "execution_count": null,
      "outputs": [
        {
          "output_type": "stream",
          "name": "stdout",
          "text": [
            "(5, 6, 7, 8)\n",
            "<class 'tuple'>\n"
          ]
        }
      ]
    },
    {
      "cell_type": "code",
      "source": [
        "tuple3 = (9, )\n",
        "tuple4 = 10,\n",
        "print(tuple3)\n",
        "print(tuple4)"
      ],
      "metadata": {
        "colab": {
          "base_uri": "https://localhost:8080/"
        },
        "id": "RH6WwNBreaDV",
        "outputId": "84e6d49d-975f-4e73-e891-56ee6f7b8948"
      },
      "execution_count": null,
      "outputs": [
        {
          "output_type": "stream",
          "name": "stdout",
          "text": [
            "(9,)\n",
            "(10,)\n"
          ]
        }
      ]
    },
    {
      "cell_type": "markdown",
      "source": [
        "튜플 메서드 이용하기"
      ],
      "metadata": {
        "id": "AbhoYWwRe8UG"
      }
    },
    {
      "cell_type": "code",
      "source": [
        "tuple5 = ('a', 'b', 'c', 'd', 'e', 'f')\n",
        "tuple5.index('c')"
      ],
      "metadata": {
        "colab": {
          "base_uri": "https://localhost:8080/"
        },
        "id": "oMjH0AZzeh2V",
        "outputId": "ddf56ece-d8b2-4bc9-db6b-bb95db716255"
      },
      "execution_count": null,
      "outputs": [
        {
          "output_type": "execute_result",
          "data": {
            "text/plain": [
              "2"
            ]
          },
          "metadata": {},
          "execution_count": 72
        }
      ]
    },
    {
      "cell_type": "code",
      "source": [
        "tuple6 = ('a', 'a', 'b', 'c', 'c', 'c')\n",
        "tuple6.count('c')"
      ],
      "metadata": {
        "colab": {
          "base_uri": "https://localhost:8080/"
        },
        "id": "OBVtKcMKer4U",
        "outputId": "cf2d320c-044a-40c6-99fb-3ed265f7edb9"
      },
      "execution_count": null,
      "outputs": [
        {
          "output_type": "execute_result",
          "data": {
            "text/plain": [
              "3"
            ]
          },
          "metadata": {},
          "execution_count": 73
        }
      ]
    },
    {
      "cell_type": "markdown",
      "source": [
        "*세트(Set)*\n",
        "\n",
        "세트 만들기"
      ],
      "metadata": {
        "id": "JZhhWMCAe1a9"
      }
    },
    {
      "cell_type": "code",
      "source": [
        "set1 = {1, 2, 3}\n",
        "set1a = {1, 2, 3, 3}\n",
        "\n",
        "print(set1)\n",
        "print(set1a)\n",
        "\n",
        "print(type(set1))"
      ],
      "metadata": {
        "colab": {
          "base_uri": "https://localhost:8080/"
        },
        "id": "Sz8IhSw7e0Dt",
        "outputId": "2b1da92c-8302-4b03-9c20-3acf8690fa71"
      },
      "execution_count": null,
      "outputs": [
        {
          "output_type": "stream",
          "name": "stdout",
          "text": [
            "{1, 2, 3}\n",
            "{1, 2, 3}\n",
            "<class 'set'>\n"
          ]
        }
      ]
    },
    {
      "cell_type": "code",
      "source": [
        "set1.add(4)\n",
        "print(set1)\n",
        "\n",
        "set1.update({5, 7})\n",
        "print(set1)\n",
        "\n",
        "set1.update('7')\n",
        "print(set1)"
      ],
      "metadata": {
        "colab": {
          "base_uri": "https://localhost:8080/"
        },
        "id": "LXdvoiednKPr",
        "outputId": "72095b4a-acea-4b77-af15-aabac5628ecf"
      },
      "execution_count": null,
      "outputs": [
        {
          "output_type": "stream",
          "name": "stdout",
          "text": [
            "{1, 2, 3, 4}\n",
            "{1, 2, 3, 4, 5, 7}\n",
            "{1, 2, 3, 4, 5, 7, '7'}\n"
          ]
        }
      ]
    },
    {
      "cell_type": "code",
      "source": [
        "setA = {1, 2, 3, 4, 5}\n",
        "setB = {4, 5, 6, 7, 8, 9, 10}\n",
        "\n",
        "print(setA.intersection(setB)) # A와 B의 교집합\n",
        "print(setA.union(setB)) # A와 B의 합집합\n",
        "print(setA.difference(setB)) # A-B (A에 대한 B의 차집합)"
      ],
      "metadata": {
        "colab": {
          "base_uri": "https://localhost:8080/"
        },
        "id": "tKCITCxHiFwf",
        "outputId": "2db4903f-c900-4cba-a1a4-5d51c4d53f42"
      },
      "execution_count": null,
      "outputs": [
        {
          "output_type": "stream",
          "name": "stdout",
          "text": [
            "{4, 5}\n",
            "{1, 2, 3, 4, 5, 6, 7, 8, 9, 10}\n",
            "{1, 2, 3}\n"
          ]
        }
      ]
    },
    {
      "cell_type": "code",
      "source": [
        "print(setA & setB)\n",
        "print(setA | setB)\n",
        "print(setA - setB)"
      ],
      "metadata": {
        "colab": {
          "base_uri": "https://localhost:8080/"
        },
        "id": "jnoiNS_giiiZ",
        "outputId": "fd5ae804-de3f-4e69-861c-096072722942"
      },
      "execution_count": null,
      "outputs": [
        {
          "output_type": "stream",
          "name": "stdout",
          "text": [
            "{4, 5}\n",
            "{1, 2, 3, 4, 5, 6, 7, 8, 9, 10}\n",
            "{1, 2, 3}\n"
          ]
        }
      ]
    },
    {
      "cell_type": "markdown",
      "source": [
        "리스트, 튜플, 세트 간 타입 변환"
      ],
      "metadata": {
        "id": "oiHxqpIHitUD"
      }
    },
    {
      "cell_type": "code",
      "source": [
        "list_ex = [1, 2, 3, 4, 5, 5]\n",
        "type(list_ex)"
      ],
      "metadata": {
        "colab": {
          "base_uri": "https://localhost:8080/"
        },
        "id": "RtOmWndnioLo",
        "outputId": "101200b9-d982-4ffe-fa19-b62d2afc9053"
      },
      "execution_count": null,
      "outputs": [
        {
          "output_type": "execute_result",
          "data": {
            "text/plain": [
              "list"
            ]
          },
          "metadata": {},
          "execution_count": 78
        }
      ]
    },
    {
      "cell_type": "code",
      "source": [
        "tuple_ex = tuple(list_ex)\n",
        "print(tuple_ex)\n",
        "type(tuple_ex)"
      ],
      "metadata": {
        "colab": {
          "base_uri": "https://localhost:8080/"
        },
        "id": "BQhaMn7ii4aL",
        "outputId": "dd94592a-f8dd-4abd-e314-06811e92d317"
      },
      "execution_count": null,
      "outputs": [
        {
          "output_type": "stream",
          "name": "stdout",
          "text": [
            "(1, 2, 3, 4, 5, 5)\n"
          ]
        },
        {
          "output_type": "execute_result",
          "data": {
            "text/plain": [
              "tuple"
            ]
          },
          "metadata": {},
          "execution_count": 79
        }
      ]
    },
    {
      "cell_type": "code",
      "source": [
        "set_ex = set(list_ex)\n",
        "print(set_ex)\n",
        "type(set_ex)"
      ],
      "metadata": {
        "colab": {
          "base_uri": "https://localhost:8080/"
        },
        "id": "M-3c7Ma-i9Hm",
        "outputId": "e905206f-529a-4635-df9f-5de7e4c07df0"
      },
      "execution_count": null,
      "outputs": [
        {
          "output_type": "stream",
          "name": "stdout",
          "text": [
            "{1, 2, 3, 4, 5}\n"
          ]
        },
        {
          "output_type": "execute_result",
          "data": {
            "text/plain": [
              "set"
            ]
          },
          "metadata": {},
          "execution_count": 80
        }
      ]
    },
    {
      "cell_type": "code",
      "source": [
        "list(tuple_ex)"
      ],
      "metadata": {
        "colab": {
          "base_uri": "https://localhost:8080/"
        },
        "id": "j2Kl27fBjGuT",
        "outputId": "12ac6b9f-92ad-4145-b0e2-edc65692573d"
      },
      "execution_count": null,
      "outputs": [
        {
          "output_type": "execute_result",
          "data": {
            "text/plain": [
              "[1, 2, 3, 4, 5, 5]"
            ]
          },
          "metadata": {},
          "execution_count": 81
        }
      ]
    },
    {
      "cell_type": "code",
      "source": [
        "list(set_ex)"
      ],
      "metadata": {
        "colab": {
          "base_uri": "https://localhost:8080/"
        },
        "id": "ZbJpq3oRjK-t",
        "outputId": "48d8e917-2a36-40f9-fc2c-f4ea7d7d71a9"
      },
      "execution_count": null,
      "outputs": [
        {
          "output_type": "execute_result",
          "data": {
            "text/plain": [
              "[1, 2, 3, 4, 5]"
            ]
          },
          "metadata": {},
          "execution_count": 82
        }
      ]
    },
    {
      "cell_type": "markdown",
      "source": [
        "*딕셔너리 (Dictionary)*\n",
        "\n",
        "딕셔너리 만들기"
      ],
      "metadata": {
        "id": "gOcXyDVfjOka"
      }
    },
    {
      "cell_type": "code",
      "source": [
        "country_capital = {\"영국\":\"런던\", \"프랑스\":\"파리\", \"스위스\":\"베른\", \"호주\":\"멜버른\", \"덴마크\":\"코펜하겐\"}\n",
        "print(country_capital)\n",
        "type(country_capital)"
      ],
      "metadata": {
        "colab": {
          "base_uri": "https://localhost:8080/"
        },
        "id": "Q5pbTRp_jMnx",
        "outputId": "ce9bbc4c-6715-4bd9-ddcb-43d6b3d9835e"
      },
      "execution_count": null,
      "outputs": [
        {
          "output_type": "stream",
          "name": "stdout",
          "text": [
            "{'영국': '런던', '프랑스': '파리', '스위스': '베른', '호주': '멜버른', '덴마크': '코펜하겐'}\n"
          ]
        },
        {
          "output_type": "execute_result",
          "data": {
            "text/plain": [
              "dict"
            ]
          },
          "metadata": {},
          "execution_count": 83
        }
      ]
    },
    {
      "cell_type": "code",
      "source": [
        "country_capital[\"영국\"]"
      ],
      "metadata": {
        "colab": {
          "base_uri": "https://localhost:8080/",
          "height": 35
        },
        "id": "T8ZAG-3okPp2",
        "outputId": "2d1d5b36-ea50-42ea-aa4e-138d2f0ed431"
      },
      "execution_count": null,
      "outputs": [
        {
          "output_type": "execute_result",
          "data": {
            "text/plain": [
              "'런던'"
            ],
            "application/vnd.google.colaboratory.intrinsic+json": {
              "type": "string"
            }
          },
          "metadata": {},
          "execution_count": 84
        }
      ]
    },
    {
      "cell_type": "code",
      "source": [
        "dict_data1 = {1:\"Bus\", 2:\"Airplane\", 4:\"Taxi\", 5:\"Walk\"}\n",
        "print(dict_data1)\n",
        "dict_data1[2]"
      ],
      "metadata": {
        "colab": {
          "base_uri": "https://localhost:8080/",
          "height": 54
        },
        "id": "gsBd6SCHkSgE",
        "outputId": "64ad268f-30f2-4f9d-ff34-b6170e4b3631"
      },
      "execution_count": null,
      "outputs": [
        {
          "output_type": "stream",
          "name": "stdout",
          "text": [
            "{1: 'Bus', 2: 'Airplane', 4: 'Taxi', 5: 'Walk'}\n"
          ]
        },
        {
          "output_type": "execute_result",
          "data": {
            "text/plain": [
              "'Airplane'"
            ],
            "application/vnd.google.colaboratory.intrinsic+json": {
              "type": "string"
            }
          },
          "metadata": {},
          "execution_count": 85
        }
      ]
    },
    {
      "cell_type": "code",
      "source": [
        "dict_data2 = {1:10, 2:20, 3:30, 4:40, 5:50}\n",
        "print(dict_data2)\n",
        "dict_data2[4]"
      ],
      "metadata": {
        "colab": {
          "base_uri": "https://localhost:8080/"
        },
        "id": "zs9WIFI9kb19",
        "outputId": "73c60f85-1737-4fb6-fd52-617ccf36552c"
      },
      "execution_count": null,
      "outputs": [
        {
          "output_type": "stream",
          "name": "stdout",
          "text": [
            "{1: 10, 2: 20, 3: 30, 4: 40, 5: 50}\n"
          ]
        },
        {
          "output_type": "execute_result",
          "data": {
            "text/plain": [
              "40"
            ]
          },
          "metadata": {},
          "execution_count": 86
        }
      ]
    },
    {
      "cell_type": "code",
      "source": [
        "dict_data3 = {\"list_data1\":[11, 12, 13], \"list_data2\":[21, 22, 23]}\n",
        "print(dict_data3)\n",
        "print(dict_data3[\"list_data1\"])"
      ],
      "metadata": {
        "colab": {
          "base_uri": "https://localhost:8080/"
        },
        "id": "0A84hlEnkvvD",
        "outputId": "f7cc4367-4e66-4a1d-8d5c-4e81eb064a39"
      },
      "execution_count": null,
      "outputs": [
        {
          "output_type": "stream",
          "name": "stdout",
          "text": [
            "{'list_data1': [11, 12, 13], 'list_data2': [21, 22, 23]}\n",
            "[11, 12, 13]\n"
          ]
        }
      ]
    },
    {
      "cell_type": "code",
      "source": [
        "mixed_dict = {1:10, 'dict_num':{1:10, 2:20},\n",
        "              'dict_list_tuple':{\"A\":[11, 12, 13], \"B\":[21, 22, 23]},\n",
        "              \"dict_string\":\"This is Dict\"}\n",
        "print(mixed_dict)\n",
        "mixed_dict['dict_num']"
      ],
      "metadata": {
        "colab": {
          "base_uri": "https://localhost:8080/"
        },
        "id": "EgxyOJq8k_qy",
        "outputId": "913c643c-468b-48cd-f6e3-0cd820f94f4e"
      },
      "execution_count": null,
      "outputs": [
        {
          "output_type": "stream",
          "name": "stdout",
          "text": [
            "{1: 10, 'dict_num': {1: 10, 2: 20}, 'dict_list_tuple': {'A': [11, 12, 13], 'B': [21, 22, 23]}, 'dict_string': 'This is Dict'}\n"
          ]
        },
        {
          "output_type": "execute_result",
          "data": {
            "text/plain": [
              "{1: 10, 2: 20}"
            ]
          },
          "metadata": {},
          "execution_count": 88
        }
      ]
    },
    {
      "cell_type": "markdown",
      "source": [
        "딕셔너리 다루기"
      ],
      "metadata": {
        "id": "1cAO0Nlwlgxe"
      }
    },
    {
      "cell_type": "code",
      "source": [
        "print(country_capital)\n",
        "country_capital[\"독일\"] = \"베를린\"\n",
        "print(country_capital)"
      ],
      "metadata": {
        "colab": {
          "base_uri": "https://localhost:8080/"
        },
        "id": "ua2UY0uwler5",
        "outputId": "715c455f-5e56-49e5-99cd-935ae9d8c01c"
      },
      "execution_count": null,
      "outputs": [
        {
          "output_type": "stream",
          "name": "stdout",
          "text": [
            "{'영국': '런던', '프랑스': '파리', '스위스': '베른', '호주': '멜버른', '덴마크': '코펜하겐'}\n",
            "{'영국': '런던', '프랑스': '파리', '스위스': '베른', '호주': '멜버른', '덴마크': '코펜하겐', '독일': '베를린'}\n"
          ]
        }
      ]
    },
    {
      "cell_type": "code",
      "source": [
        "country_capital[\"호주\"] = \"캔버라\"\n",
        "print(country_capital)"
      ],
      "metadata": {
        "colab": {
          "base_uri": "https://localhost:8080/"
        },
        "id": "nuZPPXqxlo6r",
        "outputId": "56ccb2e4-aa94-4fea-94f0-696d2f8379c7"
      },
      "execution_count": null,
      "outputs": [
        {
          "output_type": "stream",
          "name": "stdout",
          "text": [
            "{'영국': '런던', '프랑스': '파리', '스위스': '베른', '호주': '캔버라', '덴마크': '코펜하겐', '독일': '베를린'}\n"
          ]
        }
      ]
    },
    {
      "cell_type": "code",
      "source": [
        "del country_capital[\"덴마크\"]\n",
        "print(country_capital)"
      ],
      "metadata": {
        "colab": {
          "base_uri": "https://localhost:8080/"
        },
        "id": "PiD9yUIMlytL",
        "outputId": "75e941b1-168e-4427-b75b-2302521fce15"
      },
      "execution_count": null,
      "outputs": [
        {
          "output_type": "stream",
          "name": "stdout",
          "text": [
            "{'영국': '런던', '프랑스': '파리', '스위스': '베른', '호주': '캔버라', '독일': '베를린'}\n"
          ]
        }
      ]
    },
    {
      "cell_type": "markdown",
      "source": [
        "딕셔너리 메서드"
      ],
      "metadata": {
        "id": "GvvdwpjymAaB"
      }
    },
    {
      "cell_type": "code",
      "source": [
        "fruit_code = {\"사과\":101, \"수박\":102, \"자두\":103, \"복숭아\":104, \"바나나\":105}\n",
        "\n",
        "print(fruit_code.keys())\n",
        "print(fruit_code.values())\n",
        "print(fruit_code.items())"
      ],
      "metadata": {
        "colab": {
          "base_uri": "https://localhost:8080/"
        },
        "id": "wRzoVMsFl0Lz",
        "outputId": "ae5b2878-f3c7-465c-b253-9ee4c2967833"
      },
      "execution_count": null,
      "outputs": [
        {
          "output_type": "stream",
          "name": "stdout",
          "text": [
            "dict_keys(['사과', '수박', '자두', '복숭아', '바나나'])\n",
            "dict_values([101, 102, 103, 104, 105])\n",
            "dict_items([('사과', 101), ('수박', 102), ('자두', 103), ('복숭아', 104), ('바나나', 105)])\n"
          ]
        }
      ]
    },
    {
      "cell_type": "code",
      "source": [
        "list(fruit_code.keys())"
      ],
      "metadata": {
        "colab": {
          "base_uri": "https://localhost:8080/"
        },
        "id": "z0U0gkE9mafl",
        "outputId": "f803c2ab-ab99-44a1-962f-888c48096efa"
      },
      "execution_count": null,
      "outputs": [
        {
          "output_type": "execute_result",
          "data": {
            "text/plain": [
              "['사과', '수박', '자두', '복숭아', '바나나']"
            ]
          },
          "metadata": {},
          "execution_count": 103
        }
      ]
    },
    {
      "cell_type": "code",
      "source": [
        "fruit_code2 = {\"오렌지\":106, \"키위\":107}\n",
        "fruit_code.update(fruit_code2)\n",
        "print(fruit_code)"
      ],
      "metadata": {
        "colab": {
          "base_uri": "https://localhost:8080/"
        },
        "id": "qV3Whdj9mckt",
        "outputId": "c45d4035-c110-4cbd-82d0-e4a67bf902dc"
      },
      "execution_count": null,
      "outputs": [
        {
          "output_type": "stream",
          "name": "stdout",
          "text": [
            "{'사과': 101, '수박': 102, '자두': 103, '복숭아': 104, '바나나': 105, '오렌지': 106, '키위': 107}\n"
          ]
        }
      ]
    },
    {
      "cell_type": "code",
      "source": [
        "print(fruit_code2)\n",
        "fruit_code2.clear()\n",
        "print(fruit_code2)\n",
        "print(type(fruit_code2))"
      ],
      "metadata": {
        "colab": {
          "base_uri": "https://localhost:8080/"
        },
        "id": "YO7S5kvJmlva",
        "outputId": "f356eb94-2f15-4278-a4dc-21e4045561a9"
      },
      "execution_count": null,
      "outputs": [
        {
          "output_type": "stream",
          "name": "stdout",
          "text": [
            "{'오렌지': 106, '키위': 107}\n",
            "{}\n",
            "<class 'dict'>\n"
          ]
        }
      ]
    },
    {
      "cell_type": "code",
      "source": [],
      "metadata": {
        "id": "hC_UJSfUf7_T"
      },
      "execution_count": null,
      "outputs": []
    }
  ]
}