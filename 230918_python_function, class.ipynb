{
  "nbformat": 4,
  "nbformat_minor": 0,
  "metadata": {
    "colab": {
      "provenance": [],
      "authorship_tag": "ABX9TyPCi43wVcrULrwuSET843tP",
      "include_colab_link": true
    },
    "kernelspec": {
      "name": "python3",
      "display_name": "Python 3"
    },
    "language_info": {
      "name": "python"
    }
  },
  "cells": [
    {
      "cell_type": "markdown",
      "metadata": {
        "id": "view-in-github",
        "colab_type": "text"
      },
      "source": [
        "<a href=\"https://colab.research.google.com/github/haeun1star/Mobis_Python_2023/blob/main/230918_python_function%2C%20class.ipynb\" target=\"_parent\"><img src=\"https://colab.research.google.com/assets/colab-badge.svg\" alt=\"Open In Colab\"/></a>"
      ]
    },
    {
      "cell_type": "markdown",
      "source": [
        "## 함수\n"
      ],
      "metadata": {
        "id": "RB7g3MA1i5AG"
      }
    },
    {
      "cell_type": "code",
      "execution_count": null,
      "metadata": {
        "id": "tNPV1c70TBpM"
      },
      "outputs": [],
      "source": [
        "def my_func():\n",
        "  print(\"My first function!\")\n",
        "  print(\"This is a function\")"
      ]
    },
    {
      "cell_type": "code",
      "source": [
        "my_func()"
      ],
      "metadata": {
        "colab": {
          "base_uri": "https://localhost:8080/"
        },
        "id": "Ol9tRUN3jMR8",
        "outputId": "d6e37bad-e73b-4369-bc63-893118990592"
      },
      "execution_count": null,
      "outputs": [
        {
          "output_type": "stream",
          "name": "stdout",
          "text": [
            "My first function!\n",
            "This is a function\n"
          ]
        }
      ]
    },
    {
      "cell_type": "code",
      "source": [
        "def my_Friend(friendName):\n",
        "  print(\"{} is my friend.\".format((friendName)))"
      ],
      "metadata": {
        "id": "VmULJVmijO0J"
      },
      "execution_count": null,
      "outputs": []
    },
    {
      "cell_type": "code",
      "source": [
        "my_Friend(\"Song\")"
      ],
      "metadata": {
        "colab": {
          "base_uri": "https://localhost:8080/"
        },
        "id": "2RGOnBmBn46Y",
        "outputId": "47f9db8d-ea6b-4029-997e-c47a63c6eb0a"
      },
      "execution_count": null,
      "outputs": [
        {
          "output_type": "stream",
          "name": "stdout",
          "text": [
            "Song is my friend.\n"
          ]
        }
      ]
    },
    {
      "cell_type": "code",
      "source": [
        "my_Friend(\"Lee\")"
      ],
      "metadata": {
        "colab": {
          "base_uri": "https://localhost:8080/"
        },
        "id": "-Hg4XFd3n6gz",
        "outputId": "f3e47e46-9aa8-49ab-b74e-dd301f55d17c"
      },
      "execution_count": null,
      "outputs": [
        {
          "output_type": "stream",
          "name": "stdout",
          "text": [
            "Lee is my friend.\n"
          ]
        }
      ]
    },
    {
      "cell_type": "code",
      "source": [
        "def my_student_info(name, school_ID, phoneNumber):\n",
        "  print(\"----------\")\n",
        "  print(\" - Name  : \", name)\n",
        "  print(\" - class : \", school_ID)\n",
        "  print(\" - phone : \", phoneNumber)"
      ],
      "metadata": {
        "id": "ooX7c-L1n9vt"
      },
      "execution_count": null,
      "outputs": []
    },
    {
      "cell_type": "code",
      "source": [
        "my_student_info(\"Jung\", \"03\", \"010-1111-1111\")\n",
        "my_student_info(\"Oh\", \"02\", \"010-5555-6789\")"
      ],
      "metadata": {
        "colab": {
          "base_uri": "https://localhost:8080/"
        },
        "id": "Dp543AhIofLC",
        "outputId": "00093a5e-a248-4f57-e1e7-61ee5451ef5a"
      },
      "execution_count": null,
      "outputs": [
        {
          "output_type": "stream",
          "name": "stdout",
          "text": [
            "----------\n",
            " - Name  :  Jung\n",
            " - class :  03\n",
            " - phone :  010-1111-1111\n",
            "----------\n",
            " - Name  :  Oh\n",
            " - class :  02\n",
            " - phone :  010-5555-6789\n"
          ]
        }
      ]
    },
    {
      "cell_type": "code",
      "source": [
        "def my_student_info(name, school_ID, phoneNumber):\n",
        "  print(\"----**----\")\n",
        "  print(\" * Name  : \", name)\n",
        "  print(\" * class : \", school_ID)\n",
        "  print(\" * phone : \", phoneNumber)"
      ],
      "metadata": {
        "id": "pEC5ic-_opv-"
      },
      "execution_count": null,
      "outputs": []
    },
    {
      "cell_type": "code",
      "source": [
        "my_student_info(\"Jung\", \"03\", \"010-1111-1111\")\n",
        "my_student_info(\"Oh\", \"02\", \"010-5555-6789\")"
      ],
      "metadata": {
        "colab": {
          "base_uri": "https://localhost:8080/"
        },
        "id": "3wRHexrMo1pw",
        "outputId": "11425b66-12a1-4779-8419-579e4cb0e82f"
      },
      "execution_count": null,
      "outputs": [
        {
          "output_type": "stream",
          "name": "stdout",
          "text": [
            "----**----\n",
            " * Name  :  Jung\n",
            " * class :  03\n",
            " * phone :  010-1111-1111\n",
            "----**----\n",
            " * Name  :  Oh\n",
            " * class :  02\n",
            " * phone :  010-5555-6789\n"
          ]
        }
      ]
    },
    {
      "cell_type": "code",
      "source": [
        "def my_calc(x, y):\n",
        "  z = x * y\n",
        "  return z"
      ],
      "metadata": {
        "id": "oFwfqlv5o20p"
      },
      "execution_count": null,
      "outputs": []
    },
    {
      "cell_type": "code",
      "source": [
        "my_calc(2, 5)"
      ],
      "metadata": {
        "colab": {
          "base_uri": "https://localhost:8080/"
        },
        "id": "9T3aFC_bo_SL",
        "outputId": "bcfebf3f-0526-4a6b-aae1-a6801905dcc3"
      },
      "execution_count": null,
      "outputs": [
        {
          "output_type": "execute_result",
          "data": {
            "text/plain": [
              "10"
            ]
          },
          "metadata": {},
          "execution_count": 11
        }
      ]
    },
    {
      "cell_type": "code",
      "source": [
        "def my_student_info_list(student_info):\n",
        "  print(\"----**----\")\n",
        "  print(\" * Name  : \", student_info[0])\n",
        "  print(\" * class : \", student_info[1])\n",
        "  print(\" * phone : \", student_info[2])"
      ],
      "metadata": {
        "id": "LJOBx2vnpBf-"
      },
      "execution_count": null,
      "outputs": []
    },
    {
      "cell_type": "code",
      "source": [
        "student1_info = [\"Jung\", \"03\", \"010-1111-1111\"]\n",
        "\n",
        "my_student_info_list(student1_info)"
      ],
      "metadata": {
        "colab": {
          "base_uri": "https://localhost:8080/"
        },
        "id": "mzZ1pVr-qDLV",
        "outputId": "495068d3-458b-4821-b81a-0c72552a5609"
      },
      "execution_count": null,
      "outputs": [
        {
          "output_type": "stream",
          "name": "stdout",
          "text": [
            "----**----\n",
            " * Name  :  Jung\n",
            " * class :  03\n",
            " * phone :  010-1111-1111\n"
          ]
        }
      ]
    },
    {
      "cell_type": "code",
      "source": [
        "my_student_info_list([\"Jung\", \"03\", \"010-1111-1111\"])"
      ],
      "metadata": {
        "colab": {
          "base_uri": "https://localhost:8080/"
        },
        "id": "Jfs7daZOqLb0",
        "outputId": "48dff9a4-f1d4-4e64-dbdd-8a4ff8085aac"
      },
      "execution_count": null,
      "outputs": [
        {
          "output_type": "stream",
          "name": "stdout",
          "text": [
            "----**----\n",
            " * Name  :  Jung\n",
            " * class :  03\n",
            " * phone :  010-1111-1111\n"
          ]
        }
      ]
    },
    {
      "cell_type": "code",
      "source": [
        "a = 5 # 전역변수\n",
        "\n",
        "def func1():\n",
        "  a = 1 # 지역변수, func1()에서만 사용\n",
        "  print(\"[func1] 지역변수 a = \", a)\n",
        "\n",
        "def func2():\n",
        "  a = 2\n",
        "  print(\"[func2] 지역변수 a = \", a)\n",
        "\n",
        "def func3():\n",
        "  print(\"[func3] 전역변수 a = \", a)\n",
        "\n",
        "def func4():\n",
        "  global a # 함수 내에서 전역 변수 변경하기 위해서 선언\n",
        "  a = 4\n",
        "  print(\"[func4] 전역변수 a = \", a)"
      ],
      "metadata": {
        "id": "8rNeahrWqW58"
      },
      "execution_count": null,
      "outputs": []
    },
    {
      "cell_type": "code",
      "source": [
        "func1()\n",
        "func2()\n",
        "print(\"전역변수 a = \", a)"
      ],
      "metadata": {
        "colab": {
          "base_uri": "https://localhost:8080/"
        },
        "id": "1R52NyEHr5eg",
        "outputId": "4996037a-55b2-4209-8153-9d5efa96a5a9"
      },
      "execution_count": null,
      "outputs": [
        {
          "output_type": "stream",
          "name": "stdout",
          "text": [
            "[func1] 지역변수 a =  1\n",
            "[func2] 지역변수 a =  2\n",
            "전역변수 a =  5\n"
          ]
        }
      ]
    },
    {
      "cell_type": "code",
      "source": [
        "func3()\n",
        "func4()\n",
        "func3()"
      ],
      "metadata": {
        "colab": {
          "base_uri": "https://localhost:8080/"
        },
        "id": "EuukfRLNr_jZ",
        "outputId": "f35a7afc-4316-4bd8-9cc5-92a93373b98a"
      },
      "execution_count": null,
      "outputs": [
        {
          "output_type": "stream",
          "name": "stdout",
          "text": [
            "[func3] 전역변수 a =  5\n",
            "[func4] 전역변수 a =  4\n",
            "[func3] 전역변수 a =  4\n"
          ]
        }
      ]
    },
    {
      "cell_type": "markdown",
      "source": [
        "### 각종 내장 함수들"
      ],
      "metadata": {
        "id": "XhH8ZnpusIha"
      }
    },
    {
      "cell_type": "code",
      "source": [
        "int(0.123), int(3.8361912), int(-4.18473)"
      ],
      "metadata": {
        "colab": {
          "base_uri": "https://localhost:8080/"
        },
        "id": "ix73ZBB4sJxJ",
        "outputId": "0a2e6fc6-dbda-4589-d6e5-0c522efd8ac4"
      },
      "execution_count": null,
      "outputs": [
        {
          "output_type": "execute_result",
          "data": {
            "text/plain": [
              "(0, 3, -4)"
            ]
          },
          "metadata": {},
          "execution_count": 18
        }
      ]
    },
    {
      "cell_type": "code",
      "source": [
        "float(0), float(123), float(-482)"
      ],
      "metadata": {
        "colab": {
          "base_uri": "https://localhost:8080/"
        },
        "id": "vf5z_C_GsBTt",
        "outputId": "6137a4fb-fa54-4583-9eed-92f65c33111b"
      },
      "execution_count": null,
      "outputs": [
        {
          "output_type": "execute_result",
          "data": {
            "text/plain": [
              "(0.0, 123.0, -482.0)"
            ]
          },
          "metadata": {},
          "execution_count": 19
        }
      ]
    },
    {
      "cell_type": "code",
      "source": [
        "str(123), str(48.183), str(-3284.13)"
      ],
      "metadata": {
        "colab": {
          "base_uri": "https://localhost:8080/"
        },
        "id": "6maeUrD_sjmt",
        "outputId": "d04a1fa0-97f4-4e51-c4ee-e1acbdca3007"
      },
      "execution_count": null,
      "outputs": [
        {
          "output_type": "execute_result",
          "data": {
            "text/plain": [
              "('123', '48.183', '-3284.13')"
            ]
          },
          "metadata": {},
          "execution_count": 20
        }
      ]
    },
    {
      "cell_type": "code",
      "source": [
        "list_data = ['abc', 1, 3, 'rise']\n",
        "tuple_data = ('abc', 1, 3, 'rise')\n",
        "set_data = {'abc', 1, 3, 'rise'}"
      ],
      "metadata": {
        "id": "Stao_IPAs44O"
      },
      "execution_count": null,
      "outputs": []
    },
    {
      "cell_type": "code",
      "source": [
        "list(tuple_data), list(set_data)"
      ],
      "metadata": {
        "colab": {
          "base_uri": "https://localhost:8080/"
        },
        "id": "S6jY971KtJ1-",
        "outputId": "030247b3-d353-47ef-cb85-e23043228d1e"
      },
      "execution_count": null,
      "outputs": [
        {
          "output_type": "execute_result",
          "data": {
            "text/plain": [
              "(['abc', 1, 3, 'rise'], [1, 3, 'rise', 'abc'])"
            ]
          },
          "metadata": {},
          "execution_count": 22
        }
      ]
    },
    {
      "cell_type": "code",
      "source": [
        "tuple(list_data), tuple(set_data)"
      ],
      "metadata": {
        "colab": {
          "base_uri": "https://localhost:8080/"
        },
        "id": "2PeHcS2ptMn5",
        "outputId": "57781e43-c61d-4e6b-c472-2bcf3d4cbed6"
      },
      "execution_count": null,
      "outputs": [
        {
          "output_type": "execute_result",
          "data": {
            "text/plain": [
              "(('abc', 1, 3, 'rise'), (1, 3, 'rise', 'abc'))"
            ]
          },
          "metadata": {},
          "execution_count": 23
        }
      ]
    },
    {
      "cell_type": "code",
      "source": [
        "set(list_data), set(tuple_data)"
      ],
      "metadata": {
        "colab": {
          "base_uri": "https://localhost:8080/"
        },
        "id": "NMiXaMtItOwF",
        "outputId": "e15d6c86-f910-490e-b79b-90c5f23c695c"
      },
      "execution_count": null,
      "outputs": [
        {
          "output_type": "execute_result",
          "data": {
            "text/plain": [
              "({1, 3, 'abc', 'rise'}, {1, 3, 'abc', 'rise'})"
            ]
          },
          "metadata": {},
          "execution_count": 24
        }
      ]
    },
    {
      "cell_type": "code",
      "source": [
        "bool(0), bool(4.1), bool(-97)"
      ],
      "metadata": {
        "colab": {
          "base_uri": "https://localhost:8080/"
        },
        "id": "pWPZXa5ltQmN",
        "outputId": "74e1401a-c743-4c78-b647-9f03959edce9"
      },
      "execution_count": null,
      "outputs": [
        {
          "output_type": "execute_result",
          "data": {
            "text/plain": [
              "(False, True, True)"
            ]
          },
          "metadata": {},
          "execution_count": 25
        }
      ]
    },
    {
      "cell_type": "code",
      "source": [
        "bool('a'), bool(' '), bool(''), bool(None)"
      ],
      "metadata": {
        "colab": {
          "base_uri": "https://localhost:8080/"
        },
        "id": "T72OlB1LtgSn",
        "outputId": "ff35d673-32c0-46b7-da54-1b8034d296d8"
      },
      "execution_count": null,
      "outputs": [
        {
          "output_type": "execute_result",
          "data": {
            "text/plain": [
              "(True, True, False, False)"
            ]
          },
          "metadata": {},
          "execution_count": 26
        }
      ]
    },
    {
      "cell_type": "code",
      "source": [
        "myFriends = []\n",
        "bool(myFriends)"
      ],
      "metadata": {
        "colab": {
          "base_uri": "https://localhost:8080/"
        },
        "id": "ZnMmZc0vtmz0",
        "outputId": "3234d0d0-9a39-42f9-cf5c-5bb468b9eaa8"
      },
      "execution_count": null,
      "outputs": [
        {
          "output_type": "execute_result",
          "data": {
            "text/plain": [
              "False"
            ]
          },
          "metadata": {},
          "execution_count": 27
        }
      ]
    },
    {
      "cell_type": "code",
      "source": [
        "myFriends = ['Song', 'Oh', 'Lee']\n",
        "bool(myFriends)"
      ],
      "metadata": {
        "colab": {
          "base_uri": "https://localhost:8080/"
        },
        "id": "ekJzfEGstxnZ",
        "outputId": "662f001b-a812-4893-c94a-10bee0df3e38"
      },
      "execution_count": null,
      "outputs": [
        {
          "output_type": "execute_result",
          "data": {
            "text/plain": [
              "True"
            ]
          },
          "metadata": {},
          "execution_count": 28
        }
      ]
    },
    {
      "cell_type": "code",
      "source": [
        "myNum = ()\n",
        "bool(myNum)"
      ],
      "metadata": {
        "colab": {
          "base_uri": "https://localhost:8080/"
        },
        "id": "aFVIqbert0oz",
        "outputId": "1ddefe57-65fa-4a01-8f9e-9c2702aac596"
      },
      "execution_count": null,
      "outputs": [
        {
          "output_type": "execute_result",
          "data": {
            "text/plain": [
              "False"
            ]
          },
          "metadata": {},
          "execution_count": 30
        }
      ]
    },
    {
      "cell_type": "code",
      "source": [
        "myNum = (3, 5, 7)\n",
        "bool(myNum)"
      ],
      "metadata": {
        "colab": {
          "base_uri": "https://localhost:8080/"
        },
        "id": "bQSA6R2bt4i6",
        "outputId": "b916b52e-1070-472e-cf8e-aaa4529591ed"
      },
      "execution_count": null,
      "outputs": [
        {
          "output_type": "execute_result",
          "data": {
            "text/plain": [
              "True"
            ]
          },
          "metadata": {},
          "execution_count": 31
        }
      ]
    },
    {
      "cell_type": "code",
      "source": [
        "mySet = {}\n",
        "bool(mySet)"
      ],
      "metadata": {
        "colab": {
          "base_uri": "https://localhost:8080/"
        },
        "id": "4oQIYHWat7wS",
        "outputId": "b1a6135c-1b06-462a-97b3-fc7d6c536dbe"
      },
      "execution_count": null,
      "outputs": [
        {
          "output_type": "execute_result",
          "data": {
            "text/plain": [
              "False"
            ]
          },
          "metadata": {},
          "execution_count": 32
        }
      ]
    },
    {
      "cell_type": "code",
      "source": [
        "mySet = {5, 1, 6}\n",
        "bool(mySet)"
      ],
      "metadata": {
        "colab": {
          "base_uri": "https://localhost:8080/"
        },
        "id": "Gs1uvPDkt_0I",
        "outputId": "2dbb899b-5f39-4221-9296-02e43b6334bd"
      },
      "execution_count": null,
      "outputs": [
        {
          "output_type": "execute_result",
          "data": {
            "text/plain": [
              "True"
            ]
          },
          "metadata": {},
          "execution_count": 33
        }
      ]
    },
    {
      "cell_type": "code",
      "source": [
        "def print_name(name):\n",
        "  if bool(name):\n",
        "    print(\"입력된 이름: \", name)\n",
        "  else:\n",
        "    print(\"입력된 이름이 없습니다.\")"
      ],
      "metadata": {
        "id": "WMyPyM_0uB9C"
      },
      "execution_count": null,
      "outputs": []
    },
    {
      "cell_type": "code",
      "source": [
        "print_name('Jung')"
      ],
      "metadata": {
        "colab": {
          "base_uri": "https://localhost:8080/"
        },
        "id": "aNXaqdEXuOi1",
        "outputId": "d387d245-43e6-401f-9712-65a1598f6d00"
      },
      "execution_count": null,
      "outputs": [
        {
          "output_type": "stream",
          "name": "stdout",
          "text": [
            "입력된 이름:  Jung\n"
          ]
        }
      ]
    },
    {
      "cell_type": "code",
      "source": [
        "print_name('')"
      ],
      "metadata": {
        "colab": {
          "base_uri": "https://localhost:8080/"
        },
        "id": "IzdRKafSuQ1S",
        "outputId": "f6240aa8-a665-4ab2-fc5d-4e4118bb2592"
      },
      "execution_count": null,
      "outputs": [
        {
          "output_type": "stream",
          "name": "stdout",
          "text": [
            "입력된 이름이 없습니다.\n"
          ]
        }
      ]
    },
    {
      "cell_type": "code",
      "source": [
        "myNum = [10, 4, 5.3, 6.0, 11.2, 94]\n",
        "[min(myNum), max(myNum)]"
      ],
      "metadata": {
        "colab": {
          "base_uri": "https://localhost:8080/"
        },
        "id": "uKSFitztuR9o",
        "outputId": "21bf5cdb-37e9-4c96-8095-cfbdd283dabc"
      },
      "execution_count": null,
      "outputs": [
        {
          "output_type": "execute_result",
          "data": {
            "text/plain": [
              "[4, 94]"
            ]
          },
          "metadata": {},
          "execution_count": 38
        }
      ]
    },
    {
      "cell_type": "code",
      "source": [
        "myStr = 'zxyinabc'\n",
        "[min(myStr), max(myStr)]"
      ],
      "metadata": {
        "colab": {
          "base_uri": "https://localhost:8080/"
        },
        "id": "bZ47M5e1ul1D",
        "outputId": "cd6e854a-083e-4f59-e6b7-98f247b07179"
      },
      "execution_count": null,
      "outputs": [
        {
          "output_type": "execute_result",
          "data": {
            "text/plain": [
              "['a', 'z']"
            ]
          },
          "metadata": {},
          "execution_count": 39
        }
      ]
    },
    {
      "cell_type": "code",
      "source": [
        "myStr = {\"Abc\", \"abc\", \"bcd\", \"efg\"}\n",
        "[min(myStr), max(myStr)]"
      ],
      "metadata": {
        "colab": {
          "base_uri": "https://localhost:8080/"
        },
        "id": "bCYoUItIurfn",
        "outputId": "94de1041-d825-4038-caba-e0b032403f1f"
      },
      "execution_count": null,
      "outputs": [
        {
          "output_type": "execute_result",
          "data": {
            "text/plain": [
              "['Abc', 'efg']"
            ]
          },
          "metadata": {},
          "execution_count": 40
        }
      ]
    },
    {
      "cell_type": "code",
      "source": [
        "abs(10), abs(-432), abs(2.45)"
      ],
      "metadata": {
        "colab": {
          "base_uri": "https://localhost:8080/"
        },
        "id": "GLD4n0irvCMJ",
        "outputId": "82eefdd9-245e-442a-9409-b43fd8ef7c51"
      },
      "execution_count": null,
      "outputs": [
        {
          "output_type": "execute_result",
          "data": {
            "text/plain": [
              "(10, 432, 2.45)"
            ]
          },
          "metadata": {},
          "execution_count": 41
        }
      ]
    },
    {
      "cell_type": "code",
      "source": [
        "sumList = [1, 2, 3, 4, 5, 6, 7, 8, 9, 10]\n",
        "sum(sumList)"
      ],
      "metadata": {
        "colab": {
          "base_uri": "https://localhost:8080/"
        },
        "id": "BbGHeImKvIui",
        "outputId": "27cee64b-1558-4cb7-b9a8-ef0ead3f8fa5"
      },
      "execution_count": null,
      "outputs": [
        {
          "output_type": "execute_result",
          "data": {
            "text/plain": [
              "55"
            ]
          },
          "metadata": {},
          "execution_count": 42
        }
      ]
    },
    {
      "cell_type": "code",
      "source": [
        "len(\"ab cd\") #문자열"
      ],
      "metadata": {
        "colab": {
          "base_uri": "https://localhost:8080/"
        },
        "id": "Z2hj9xxmvMRu",
        "outputId": "f39ee63a-f429-4472-8842-1bd71be5e9d6"
      },
      "execution_count": null,
      "outputs": [
        {
          "output_type": "execute_result",
          "data": {
            "text/plain": [
              "5"
            ]
          },
          "metadata": {},
          "execution_count": 43
        }
      ]
    },
    {
      "cell_type": "code",
      "source": [
        "len([1, 2, 3, 4, 5, 6, 7])"
      ],
      "metadata": {
        "colab": {
          "base_uri": "https://localhost:8080/"
        },
        "id": "q6zwJuT_vQeX",
        "outputId": "f147e9f3-da92-42c3-c68a-3cddc06afa97"
      },
      "execution_count": null,
      "outputs": [
        {
          "output_type": "execute_result",
          "data": {
            "text/plain": [
              "7"
            ]
          },
          "metadata": {},
          "execution_count": 44
        }
      ]
    },
    {
      "cell_type": "code",
      "source": [
        "scores = [90, 75, 98, 100]\n",
        "\n",
        "print(\"총점 : {}, 평균 : {}\".format(sum(scores), sum(scores)/len(scores)))\n",
        "print(\"최하점 : {}, 최고점 : {}\".format(min(scores), max(scores)))"
      ],
      "metadata": {
        "colab": {
          "base_uri": "https://localhost:8080/"
        },
        "id": "eC61Iga9vScR",
        "outputId": "aaade047-d754-4ec9-ebe9-eb7d6a697472"
      },
      "execution_count": null,
      "outputs": [
        {
          "output_type": "stream",
          "name": "stdout",
          "text": [
            "총점 : 363, 평균 : 90.75\n",
            "최하점 : 75, 최고점 : 100\n"
          ]
        }
      ]
    },
    {
      "cell_type": "markdown",
      "source": [
        "## 객체 / 클래스"
      ],
      "metadata": {
        "id": "ltkpMVB5v6QL"
      }
    },
    {
      "cell_type": "code",
      "source": [
        "class CN7():\n",
        "  pass"
      ],
      "metadata": {
        "id": "6q9rv8tqvxBR"
      },
      "execution_count": null,
      "outputs": []
    },
    {
      "cell_type": "code",
      "source": [
        "my_car = CN7()"
      ],
      "metadata": {
        "id": "G2u7Su6oxuZf"
      },
      "execution_count": null,
      "outputs": []
    },
    {
      "cell_type": "code",
      "source": [
        "my_car"
      ],
      "metadata": {
        "colab": {
          "base_uri": "https://localhost:8080/"
        },
        "id": "rlWyEpcMxxxr",
        "outputId": "42008a5e-364f-47ab-875b-c4cdd1b4addf"
      },
      "execution_count": null,
      "outputs": [
        {
          "output_type": "execute_result",
          "data": {
            "text/plain": [
              "<__main__.CN7 at 0x7d1222f69a20>"
            ]
          },
          "metadata": {},
          "execution_count": 49
        }
      ]
    },
    {
      "cell_type": "code",
      "source": [
        "my_car.wheel_size = 17\n",
        "my_car.color = 'red'"
      ],
      "metadata": {
        "id": "-uqM9vxrxyeY"
      },
      "execution_count": null,
      "outputs": []
    },
    {
      "cell_type": "code",
      "source": [
        "print(\"Wheel size : \", my_car.wheel_size)\n",
        "print(\"color : \", my_car.color)"
      ],
      "metadata": {
        "colab": {
          "base_uri": "https://localhost:8080/"
        },
        "id": "GZg8gwAox6VF",
        "outputId": "1d3a4d07-0a2b-4537-f181-e8b14d985ea3"
      },
      "execution_count": null,
      "outputs": [
        {
          "output_type": "stream",
          "name": "stdout",
          "text": [
            "Wheel size :  17\n",
            "color :  red\n"
          ]
        }
      ]
    },
    {
      "cell_type": "code",
      "source": [
        "class CN7():\n",
        "\n",
        "  def move(self, speed):\n",
        "    print(\"{}km/h로 전진\".format(speed))\n",
        "\n",
        "  def turn(self, direction):\n",
        "    print(\"{}회전\".format(direction))\n",
        "\n",
        "  def stop(self):\n",
        "    print(\"정지\")"
      ],
      "metadata": {
        "id": "Fv2_SargyHVm"
      },
      "execution_count": null,
      "outputs": []
    },
    {
      "cell_type": "code",
      "source": [
        "my_car = CN7()\n",
        "\n",
        "my_car.wheel_size = 17\n",
        "my_car.color = 'red'\n",
        "\n",
        "my_car.move(85)\n",
        "my_car.turn('우')\n",
        "my_car.stop()"
      ],
      "metadata": {
        "colab": {
          "base_uri": "https://localhost:8080/"
        },
        "id": "87shKacOyomq",
        "outputId": "3f923b04-4e72-40ab-f036-298dfa8bbea6"
      },
      "execution_count": null,
      "outputs": [
        {
          "output_type": "stream",
          "name": "stdout",
          "text": [
            "85km/h로 전진\n",
            "우회전\n",
            "정지\n"
          ]
        }
      ]
    },
    {
      "cell_type": "code",
      "source": [
        "your_car = CN7()\n",
        "\n",
        "your_car.wheel_size = 16\n",
        "your_car.color = 'blue'\n",
        "\n",
        "your_car.move(40)\n",
        "your_car.turn('좌')\n",
        "your_car.stop()"
      ],
      "metadata": {
        "colab": {
          "base_uri": "https://localhost:8080/"
        },
        "id": "Lmucp1MUy1rJ",
        "outputId": "f141050d-7d72-4ece-aacc-939703a41027"
      },
      "execution_count": null,
      "outputs": [
        {
          "output_type": "stream",
          "name": "stdout",
          "text": [
            "40km/h로 전진\n",
            "좌회전\n",
            "정지\n"
          ]
        }
      ]
    },
    {
      "cell_type": "code",
      "source": [
        "class CN7():\n",
        "\n",
        "  def __init__(self, wheel_size, color):\n",
        "    self.wheel_size = wheel_size\n",
        "    self.color = color\n",
        "\n",
        "  def move(self, speed):\n",
        "    print(\"{}km/h로 전진\".format(speed))\n",
        "\n",
        "  def turn(self, direction):\n",
        "    print(\"{}회전\".format(direction))\n",
        "\n",
        "  def stop(self):\n",
        "    print(\"정지\")"
      ],
      "metadata": {
        "id": "EBS6ZoCYy-Ua"
      },
      "execution_count": null,
      "outputs": []
    },
    {
      "cell_type": "code",
      "source": [
        "third_car = CN7(15, 'white')\n",
        "\n",
        "third_car.move(57)\n",
        "third_car.turn('좌')\n",
        "third_car.stop()\n",
        "\n",
        "print(\"Wheel size : \", third_car.wheel_size)\n",
        "print(\"color : \", third_car.color)"
      ],
      "metadata": {
        "colab": {
          "base_uri": "https://localhost:8080/"
        },
        "id": "etLTVzouzN8S",
        "outputId": "fe8a337a-045d-4575-ab4c-2c7e5ab1da45"
      },
      "execution_count": null,
      "outputs": [
        {
          "output_type": "stream",
          "name": "stdout",
          "text": [
            "57km/h로 전진\n",
            "좌회전\n",
            "정지\n",
            "Wheel size :  15\n",
            "color :  white\n"
          ]
        }
      ]
    },
    {
      "cell_type": "code",
      "source": [
        "class Calculator():\n",
        "  def __init__(self, x, y):\n",
        "    self.x = x\n",
        "    self.y = y\n",
        "\n",
        "  def add_self(self):\n",
        "    print(self.x + self.y)\n",
        "\n",
        "  def mul_self(self):\n",
        "    print(self.x * self.y)\n",
        "\n",
        "  def add(x, y):\n",
        "    print(x + y)\n",
        "\n",
        "  def mul(x, y):\n",
        "    print(x * y)"
      ],
      "metadata": {
        "id": "lkbWZjshzW33"
      },
      "execution_count": null,
      "outputs": []
    },
    {
      "cell_type": "code",
      "source": [
        "cal = Calculator(4, 5)"
      ],
      "metadata": {
        "id": "emDmg-2OZywW"
      },
      "execution_count": null,
      "outputs": []
    },
    {
      "cell_type": "code",
      "source": [
        "cal.add_self()"
      ],
      "metadata": {
        "colab": {
          "base_uri": "https://localhost:8080/"
        },
        "id": "brWdjBTYZ8oS",
        "outputId": "96da7764-6782-4ceb-a12f-a36f07fa714e"
      },
      "execution_count": null,
      "outputs": [
        {
          "output_type": "stream",
          "name": "stdout",
          "text": [
            "9\n"
          ]
        }
      ]
    },
    {
      "cell_type": "code",
      "source": [
        "cal.mul_self()"
      ],
      "metadata": {
        "colab": {
          "base_uri": "https://localhost:8080/"
        },
        "id": "tgBUEOHQZ_jI",
        "outputId": "2ee5a135-e8f1-4d6f-b654-9f0f50c44602"
      },
      "execution_count": null,
      "outputs": [
        {
          "output_type": "stream",
          "name": "stdout",
          "text": [
            "20\n"
          ]
        }
      ]
    },
    {
      "cell_type": "code",
      "source": [
        "cal.mul(4,5)"
      ],
      "metadata": {
        "colab": {
          "base_uri": "https://localhost:8080/",
          "height": 184
        },
        "id": "P7GB9EDjaAxI",
        "outputId": "6ca17fbf-4cf5-4e44-d729-ada1863a528f"
      },
      "execution_count": null,
      "outputs": [
        {
          "output_type": "error",
          "ename": "TypeError",
          "evalue": "ignored",
          "traceback": [
            "\u001b[0;31m---------------------------------------------------------------------------\u001b[0m",
            "\u001b[0;31mTypeError\u001b[0m                                 Traceback (most recent call last)",
            "\u001b[0;32m<ipython-input-15-54cd2ad473a3>\u001b[0m in \u001b[0;36m<cell line: 1>\u001b[0;34m()\u001b[0m\n\u001b[0;32m----> 1\u001b[0;31m \u001b[0mcal\u001b[0m\u001b[0;34m.\u001b[0m\u001b[0mmul\u001b[0m\u001b[0;34m(\u001b[0m\u001b[0;36m4\u001b[0m\u001b[0;34m,\u001b[0m\u001b[0;36m5\u001b[0m\u001b[0;34m)\u001b[0m\u001b[0;34m\u001b[0m\u001b[0;34m\u001b[0m\u001b[0m\n\u001b[0m",
            "\u001b[0;31mTypeError\u001b[0m: Calculator.mul() takes 2 positional arguments but 3 were given"
          ]
        }
      ]
    },
    {
      "cell_type": "code",
      "source": [
        "Calculator.mul(4, 5)"
      ],
      "metadata": {
        "colab": {
          "base_uri": "https://localhost:8080/"
        },
        "id": "RcEc0hEIaf2Y",
        "outputId": "ff493d46-a89e-4300-90cf-8071265bd363"
      },
      "execution_count": null,
      "outputs": [
        {
          "output_type": "stream",
          "name": "stdout",
          "text": [
            "20\n"
          ]
        }
      ]
    },
    {
      "cell_type": "code",
      "source": [
        "Calculator.mul_self(4, 5)"
      ],
      "metadata": {
        "colab": {
          "base_uri": "https://localhost:8080/",
          "height": 184
        },
        "id": "1AXeBqW5a2F8",
        "outputId": "469ca360-318f-4a03-9ca4-6edd50bdaaf7"
      },
      "execution_count": null,
      "outputs": [
        {
          "output_type": "error",
          "ename": "TypeError",
          "evalue": "ignored",
          "traceback": [
            "\u001b[0;31m---------------------------------------------------------------------------\u001b[0m",
            "\u001b[0;31mTypeError\u001b[0m                                 Traceback (most recent call last)",
            "\u001b[0;32m<ipython-input-17-e49a2d2924b3>\u001b[0m in \u001b[0;36m<cell line: 1>\u001b[0;34m()\u001b[0m\n\u001b[0;32m----> 1\u001b[0;31m \u001b[0mCalculator\u001b[0m\u001b[0;34m.\u001b[0m\u001b[0mmul_self\u001b[0m\u001b[0;34m(\u001b[0m\u001b[0;36m4\u001b[0m\u001b[0;34m,\u001b[0m \u001b[0;36m5\u001b[0m\u001b[0;34m)\u001b[0m\u001b[0;34m\u001b[0m\u001b[0;34m\u001b[0m\u001b[0m\n\u001b[0m",
            "\u001b[0;31mTypeError\u001b[0m: Calculator.mul_self() takes 1 positional argument but 2 were given"
          ]
        }
      ]
    },
    {
      "cell_type": "code",
      "source": [],
      "metadata": {
        "id": "flpDmHltbHBn"
      },
      "execution_count": null,
      "outputs": []
    }
  ]
}